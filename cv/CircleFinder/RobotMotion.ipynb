{
 "cells": [
  {
   "cell_type": "markdown",
   "metadata": {},
   "source": [
    "# Robot Motion\n",
    "Mapping relative position from camera and lidar distance information to robot motion.\n",
    "\n",
    "Order of presidence for motion:\n",
    " - rotation (phi) \n",
    " - height \n",
    " - x position\n",
    " - y position\n",
    " \n",
    "All quantaties but x position is known fully, but the sign for x-position is ambigous. Therefore, we need to implement a strategy in which two data-points are collected in order to assertain whether we need to move left or right in order to get in front of the port."
   ]
  },
  {
   "cell_type": "code",
   "execution_count": 1,
   "metadata": {
    "collapsed": true
   },
   "outputs": [],
   "source": [
    "import numpy as np"
   ]
  },
  {
   "cell_type": "code",
   "execution_count": null,
   "metadata": {
    "collapsed": true
   },
   "outputs": [],
   "source": [
    "phiErrorLimit = 1 // degree\n",
    "xError = 0.005 // m\n",
    "yError = 0.005 // m\n",
    "zError = 0.005 // m\n",
    "\n",
    "\n",
    "def commandFromRelativePosition(x, y, z, phi):\n",
    "    \n",
    "    if (abs(phi) > phiErrorLimit):\n",
    "        return 'S ' + str(phi)\n",
    "    \n",
    "    if (abs(z) > zError):\n",
    "        return 'A ' + str(-z)\n",
    "    \n",
    "    if (abs(x) > xError):\n",
    "        return \n",
    "\n",
    "    if (abs(y) > yError):\n",
    "        if (y > 0.4) return 'MF ' + str(y-0.4)\n",
    "    \n"
   ]
  }
 ],
 "metadata": {
  "kernelspec": {
   "display_name": "Python 3",
   "language": "python",
   "name": "python3"
  },
  "language_info": {
   "codemirror_mode": {
    "name": "ipython",
    "version": 2
   },
   "file_extension": ".py",
   "mimetype": "text/x-python",
   "name": "python",
   "nbconvert_exporter": "python",
   "pygments_lexer": "ipython2",
   "version": "2.7.14"
  }
 },
 "nbformat": 4,
 "nbformat_minor": 2
}
