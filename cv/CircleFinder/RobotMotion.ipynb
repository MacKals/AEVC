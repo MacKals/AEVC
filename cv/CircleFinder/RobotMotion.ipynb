{
 "cells": [
  {
   "cell_type": "markdown",
   "metadata": {},
   "source": [
    "# Robot Motion\n",
    "Mapping relative position from camera and lidar distance information to robot motion.\n",
    "\n",
    "Order of presidence for motion:\n",
    " - rotation (phi) \n",
    " - height \n",
    " - x position\n",
    " - y position\n",
    " \n",
    "All quantaties but x position is known fully, but the sign for x-position is ambigous. Therefore, we need to implement a strategy in which two data-points are collected in order to assertain whether we need to move left or right in order to get in front of the port."
   ]
  },
  {
   "cell_type": "markdown",
   "metadata": {},
   "source": [
    "## States\n",
    "- INITIALIZING\n",
    " - Establish serial connection\n",
    " - Home steppers\n",
    " - To: \n",
    "  - IDLE upon completion (completion reciept from stepper homing)\n",
    "- IDLE\n",
    " - Waiting for commands\n",
    " - To:\n",
    "  - DETECTING upon user command\n",
    "- DETECTING\n",
    " - Taking pictures, running port finder and comapring confidence level\n",
    " - May rotate to improve detection likelyhood\n",
    " - To:\n",
    "  - CENTERING upon \n",
    "- CENTERING\n",
    " - Port has been detected. Run algorithm to determine relative position and execute commands to sequentially control all the variables\n",
    "- APPROACHING\n",
    " - We have a known position directly in front of the port. Miving forward to achieve connection.\n",
    "- CONNECTING\n",
    " - Last distance moved forward whilst connector is inserted into port. Arm height changes as a function of forward displacement\n",
    "- CONNECTED\n",
    " - Ideling state while waiting for charge to complete.  \n",
    "- DISCONNECTING\n",
    " - Inverse of CONNECTING, arm raises as function of displacement.\n",
    "- RETURNING_TO_ORIGIN\n",
    " - Retrace steps back to some original position"
   ]
  },
  {
   "cell_type": "code",
   "execution_count": 1,
   "metadata": {
    "collapsed": true
   },
   "outputs": [],
   "source": [
    "import numpy as np"
   ]
  },
  {
   "cell_type": "code",
   "execution_count": null,
   "metadata": {
    "collapsed": true
   },
   "outputs": [],
   "source": [
    "phiErrorLimit = 1 // degree\n",
    "xError = 0.005 // m\n",
    "yError = 0.005 // m\n",
    "zError = 0.005 // m\n",
    "\n",
    "\n",
    "def commandFromRelativePosition(x, y, z, phi):\n",
    "    \n",
    "    if (abs(phi) > phiErrorLimit):\n",
    "        return 'S ' + str(phi)\n",
    "    \n",
    "    if (abs(z) > zError):\n",
    "        return 'A ' + str(-z)\n",
    "    \n",
    "    if (abs(x) > xError):\n",
    "        return \n",
    "\n",
    "    if (abs(y) > yError):\n",
    "        if (y > 0.4) return 'MF ' + str(y-0.4)\n",
    "    \n"
   ]
  }
 ],
 "metadata": {
  "kernelspec": {
   "display_name": "Python 3",
   "language": "python",
   "name": "python3"
  },
  "language_info": {
   "codemirror_mode": {
    "name": "ipython",
    "version": 2
   },
   "file_extension": ".py",
   "mimetype": "text/x-python",
   "name": "python",
   "nbconvert_exporter": "python",
   "pygments_lexer": "ipython2",
   "version": "2.7.14"
  }
 },
 "nbformat": 4,
 "nbformat_minor": 2
}
