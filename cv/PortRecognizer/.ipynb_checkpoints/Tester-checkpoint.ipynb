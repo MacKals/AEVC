{
 "cells": [
  {
   "cell_type": "code",
   "execution_count": 1,
   "metadata": {},
   "outputs": [
    {
     "name": "stdout",
     "output_type": "stream",
     "text": [
      "OpenCV Version : 3.3.0 \n"
     ]
    },
    {
     "ename": "NameError",
     "evalue": "name 't' is not defined",
     "output_type": "error",
     "traceback": [
      "\u001b[0;31m---------------------------------------------------------------------------\u001b[0m",
      "\u001b[0;31mNameError\u001b[0m                                 Traceback (most recent call last)",
      "\u001b[0;32m<ipython-input-1-1df5e9ad8b7f>\u001b[0m in \u001b[0;36m<module>\u001b[0;34m()\u001b[0m\n\u001b[1;32m     13\u001b[0m \u001b[0;34m\u001b[0m\u001b[0m\n\u001b[1;32m     14\u001b[0m \u001b[0;31m# importing PortRecognizer.py\u001b[0m\u001b[0;34m\u001b[0m\u001b[0;34m\u001b[0m\u001b[0m\n\u001b[0;32m---> 15\u001b[0;31m \u001b[0;32mimport\u001b[0m \u001b[0mPortRecognizer\u001b[0m \u001b[0;32mas\u001b[0m \u001b[0mpr\u001b[0m\u001b[0;34m\u001b[0m\u001b[0m\n\u001b[0m\u001b[1;32m     16\u001b[0m \u001b[0mPATH\u001b[0m \u001b[0;34m=\u001b[0m \u001b[0;34m'/Users/mKals/Developer/PortRecognizer/'\u001b[0m\u001b[0;34m\u001b[0m\u001b[0m\n",
      "\u001b[0;32m~/Developer/PortRecognizer/PortRecognizer.py\u001b[0m in \u001b[0;36m<module>\u001b[0;34m()\u001b[0m\n\u001b[1;32m      1\u001b[0m \u001b[0;32mimport\u001b[0m \u001b[0mnumpy\u001b[0m \u001b[0;32mas\u001b[0m \u001b[0mnp\u001b[0m\u001b[0;34m\u001b[0m\u001b[0m\n\u001b[1;32m      2\u001b[0m \u001b[0;32mimport\u001b[0m \u001b[0mcv2\u001b[0m\u001b[0;34m\u001b[0m\u001b[0m\n\u001b[0;32m----> 3\u001b[0;31m \u001b[0mt\u001b[0m\u001b[0;34m\u001b[0m\u001b[0m\n\u001b[0m\u001b[1;32m      4\u001b[0m \u001b[0;34m\u001b[0m\u001b[0m\n\u001b[1;32m      5\u001b[0m \u001b[0;34m\u001b[0m\u001b[0m\n",
      "\u001b[0;31mNameError\u001b[0m: name 't' is not defined"
     ]
    }
   ],
   "source": [
    "%matplotlib inline\n",
    "\n",
    "import numpy as np\n",
    "from matplotlib import pyplot as plt\n",
    "from functools import reduce\n",
    "\n",
    "import cv2\n",
    "print(\"OpenCV Version : %s \" % cv2.__version__)\n",
    "\n",
    "# for finding all files in directory\n",
    "from os import listdir\n",
    "from os.path import isfile, join\n",
    "\n",
    "# importing PortRecognizer.py \n",
    "import PortRecognizer as pr\n",
    "PATH = '/Users/mKals/Developer/PortRecognizer/'"
   ]
  },
  {
   "cell_type": "code",
   "execution_count": null,
   "metadata": {},
   "outputs": [],
   "source": [
    "# Jupyter helper funcitions\n",
    "\n",
    "### Display image in new matplotlib plot\n",
    "def show(img):\n",
    "    plt.figure(figsize=(10,10))\n",
    "    plt.imshow(img)\n",
    "    plt.show()\n",
    "    \n",
    "### Plot line in current image\n",
    "def plotLine(l, xmin, xmax):\n",
    "    p1 = [xmin, l[0]+xmin*l[1]]\n",
    "    p2 = [xmax, l[0]+xmax*l[1]]\n",
    "\n",
    "    plt.plot([p1[0], p2[0]], [-p1[1], -p2[1]], '-')\n",
    "    \n",
    "def plotLines(lines):\n",
    "    xmin, xmax = plt.xlim()\n",
    "    ymin, ymax = plt.ylim()\n",
    "\n",
    "    [plotLine(l, xmin, xmax) for l in lines] \n",
    "\n",
    "    plt.xlim((xmin, xmax))\n",
    "    plt.ylim((ymin, ymax))"
   ]
  },
  {
   "cell_type": "markdown",
   "metadata": {},
   "source": [
    "# Charge Port Lid Recognizer"
   ]
  },
  {
   "cell_type": "code",
   "execution_count": null,
   "metadata": {},
   "outputs": [],
   "source": [
    "# Import test image\n",
    "\n",
    "img = cv2.imread(PATH + 'images/orange i3/lid.png')\n",
    "image = cv2.cvtColor(img, cv2.COLOR_BGR2RGB)\n",
    "\n",
    "show(image)\n",
    "\n",
    "print(\"Height:\\t\\t%i pixels\\nWidth:\\t\\t%i pixels\\nChannels:\\t%i\" % img.shape)\n",
    "print(\"pixel at (0,0) [B,G,R]:\\t[%i,%i,%i]\" % tuple(img[0,0,:]))\n",
    "print(\"data-type: %s \" % img.dtype)"
   ]
  },
  {
   "cell_type": "code",
   "execution_count": null,
   "metadata": {},
   "outputs": [],
   "source": [
    "# Convert to binary \n",
    "\n",
    "gray = cv2.cvtColor(img, cv2.COLOR_BGR2GRAY)\n",
    "\n",
    "ret, binary = cv2.threshold(gray,30,255,cv2.THRESH_BINARY_INV)\n",
    "show(binary)\n",
    "\n",
    "\n",
    "# Filter binary\n",
    "\n",
    "kernel = np.ones((5,5),np.uint8)\n",
    "\n",
    "#erosion = cv2.erode(binary,kernel,iterations = 1)\n",
    "#show(erosion)\n",
    "\n",
    "dilation = cv2.dilate(binary, kernel, iterations = 2)\n",
    "show(dilation)\n",
    "\n",
    "#opening = cv2.morphologyEx(dilation, cv2.MORPH_OPEN, kernel)\n",
    "#show(opening)\n"
   ]
  },
  {
   "cell_type": "code",
   "execution_count": null,
   "metadata": {},
   "outputs": [],
   "source": [
    "# Fit four corners\n",
    "\n",
    "img, contours, hierarchy = cv2.findContours(dilation, cv2.RETR_EXTERNAL, cv2.CHAIN_APPROX_SIMPLE)\n",
    "\n",
    "contour = pr.i3PortContour(contours)\n",
    "\n",
    "# apply convex hull to simplify contour and flatten \n",
    "points = pr.flattenToCoordianteArray(cv2.convexHull(contour))\n",
    "\n",
    "angles = pr.anglesBetweenPoints(points)\n",
    "\n",
    "straight = np.array([1 if a > 178.5 else 0 for a in angles])\n",
    "\n",
    "straightFiltered = pr.removeLoneEntriesFromBinary(straight)\n",
    "\n",
    "linePoints = pr.keepFourLongest(straightFiltered, points)\n",
    "\n",
    "lines = [pr.lineFromPoints(p[0], p[1]) for p in linePoints]\n",
    "\n",
    "vertices = np.array([pr.intersection(lines[i], lines[(i+1)%len(lines)]) for i in range(len(lines))])\n",
    "\n",
    "\n",
    "\n",
    "# Plot result\n",
    "plt.figure()\n",
    "\n",
    "plt.plot(points[:,0], -points[:,1], 'ro')\n",
    "\n",
    "plt.plot(vertices[:,0], -vertices[:,1], 'bo')\n",
    "\n",
    "plotLines(lines)"
   ]
  },
  {
   "cell_type": "code",
   "execution_count": null,
   "metadata": {},
   "outputs": [],
   "source": [
    "# Plot lines on top of image\n",
    "\n",
    "#plt.figure()\n",
    "#show(image)\n",
    "\n",
    "#plt.plot(corners[:,0], -corners[:,1], 'bo')"
   ]
  },
  {
   "cell_type": "code",
   "execution_count": null,
   "metadata": {},
   "outputs": [],
   "source": []
  },
  {
   "cell_type": "markdown",
   "metadata": {},
   "source": [
    "$$y(x) = y_1(0) + \\frac{dy_1}{dx}x = y_2(0) + \\frac{dy_2}{dx}x$$\n",
    "\n",
    "$$ x = \\frac{y_1(0)-y_2(0)}{\\frac{dy_2}{dx}-\\frac{dy_1}{dx}} $$"
   ]
  },
  {
   "cell_type": "markdown",
   "metadata": {},
   "source": [
    "## Generalization"
   ]
  },
  {
   "cell_type": "code",
   "execution_count": null,
   "metadata": {},
   "outputs": [],
   "source": [
    "angleLimit = 175 #178.5 # any angle larger than this is considered a straight line\n",
    "blackLimit = 40 #30 # any grayscale lighter than this value is considered white\n",
    "\n",
    "def vertexPointsFromImage(img):\n",
    "    \n",
    "    image = cv2.cvtColor(img, cv2.COLOR_BGR2RGB)\n",
    "    gray = cv2.cvtColor(img, cv2.COLOR_BGR2GRAY)\n",
    "    ret, binary = cv2.threshold(gray, blackLimit, 255, cv2.THRESH_BINARY_INV)\n",
    "\n",
    "    kernel = np.ones((5,5),np.uint8)\n",
    "    dilation = cv2.dilate(binary, kernel, iterations = 2)\n",
    "    show(dilation)\n",
    "    \n",
    "    img, contours, hierarchy = cv2.findContours(dilation, cv2.RETR_EXTERNAL, cv2.CHAIN_APPROX_SIMPLE)\n",
    "\n",
    "    contour = pr.i3PortContour(contours)\n",
    "    points = pr.flattenToCoordianteArray(cv2.convexHull(contour))\n",
    "\n",
    "    plt.plot(points[:,0], -points[:,1], 'ro')\n",
    "    \n",
    "    angles = pr.anglesBetweenPoints(points)\n",
    "    straight = np.array([1 if a > angleLimit else 0 for a in angles])\n",
    "    straightFiltered = pr.removeLoneEntriesFromBinary(straight)\n",
    "\n",
    "    linePoints = pr.keepFourLongest(straightFiltered, points)\n",
    "    lines = [pr.lineFromPoints(p[0], p[1]) for p in linePoints]\n",
    "    plotLines(lines)\n",
    "    \n",
    "    return np.array([pr.intersection(lines[i], lines[(i+1)%len(lines)]) for i in range(len(lines))])"
   ]
  },
  {
   "cell_type": "code",
   "execution_count": null,
   "metadata": {},
   "outputs": [],
   "source": [
    "# Test on many images\n",
    "goodImageIndecies = np.array([4, 5, 8, 14, 16, 17, 22, 23, 24, 27, 28, 30, 31, 33, 34])-1\n",
    "\n",
    "# import all image files\n",
    "\n",
    "path_orange_i3 = PATH + 'images/orange i3/'\n",
    "orange_i3_filenames = [f for f in listdir(path_orange_i3) if isfile(join(path_orange_i3, f))]\n",
    "\n",
    "for i in goodImageIndecies:\n",
    "    print('number: ' + str(i))\n",
    "\n",
    "    name = orange_i3_filenames[i]   \n",
    "    \n",
    "    img = cv2.imread(path_orange_i3 + name)\n",
    "    image = cv2.cvtColor(img, cv2.COLOR_BGR2RGB)\n",
    "    show(image)\n",
    "    \n",
    "    try:\n",
    "        plt.figure()\n",
    "        vertices = vertexPointsFromImage(image)\n",
    "        plt.plot(vertices[:,0], -vertices[:,1], 'bo')\n",
    "    except:\n",
    "        print('error')"
   ]
  },
  {
   "cell_type": "markdown",
   "metadata": {},
   "source": [
    "# Charge Port Recognizer"
   ]
  },
  {
   "cell_type": "code",
   "execution_count": null,
   "metadata": {},
   "outputs": [],
   "source": []
  },
  {
   "cell_type": "markdown",
   "metadata": {},
   "source": [
    "## Generalization"
   ]
  },
  {
   "cell_type": "code",
   "execution_count": null,
   "metadata": {},
   "outputs": [],
   "source": []
  }
 ],
 "metadata": {
  "kernelspec": {
   "display_name": "Python 3",
   "language": "python",
   "name": "python3"
  },
  "language_info": {
   "codemirror_mode": {
    "name": "ipython",
    "version": 3
   },
   "file_extension": ".py",
   "mimetype": "text/x-python",
   "name": "python",
   "nbconvert_exporter": "python",
   "pygments_lexer": "ipython3",
   "version": "3.6.3"
  }
 },
 "nbformat": 4,
 "nbformat_minor": 2
}
